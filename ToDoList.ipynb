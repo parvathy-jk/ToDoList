{
 "cells": [
  {
   "cell_type": "code",
   "execution_count": 2,
   "id": "85d28490-e81f-4993-85f4-e7f39a3b65b6",
   "metadata": {},
   "outputs": [
    {
     "name": "stdout",
     "output_type": "stream",
     "text": [
      "\n",
      "📋 TO-DO LIST\n",
      "1. Add Task\n",
      "2. View Tasks\n",
      "3. Remove Task\n",
      "4. Exit\n"
     ]
    },
    {
     "name": "stdin",
     "output_type": "stream",
     "text": [
      "Choose an option:  1\n",
      "Enter the task:  hf\n"
     ]
    },
    {
     "name": "stdout",
     "output_type": "stream",
     "text": [
      "Task added.\n",
      "\n",
      "📋 TO-DO LIST\n",
      "1. Add Task\n",
      "2. View Tasks\n",
      "3. Remove Task\n",
      "4. Exit\n"
     ]
    },
    {
     "name": "stdin",
     "output_type": "stream",
     "text": [
      "Choose an option:  1\n",
      "Enter the task:  nvks\n"
     ]
    },
    {
     "name": "stdout",
     "output_type": "stream",
     "text": [
      "Task added.\n",
      "\n",
      "📋 TO-DO LIST\n",
      "1. Add Task\n",
      "2. View Tasks\n",
      "3. Remove Task\n",
      "4. Exit\n"
     ]
    },
    {
     "name": "stdin",
     "output_type": "stream",
     "text": [
      "Choose an option:  3\n",
      "Enter task number to remove:  1\n"
     ]
    },
    {
     "name": "stdout",
     "output_type": "stream",
     "text": [
      "Removed: hf\n",
      "\n",
      "📋 TO-DO LIST\n",
      "1. Add Task\n",
      "2. View Tasks\n",
      "3. Remove Task\n",
      "4. Exit\n"
     ]
    },
    {
     "name": "stdin",
     "output_type": "stream",
     "text": [
      "Choose an option:  2\n"
     ]
    },
    {
     "name": "stdout",
     "output_type": "stream",
     "text": [
      "\n",
      "Your Tasks:\n",
      "1. nvks\n",
      "\n",
      "📋 TO-DO LIST\n",
      "1. Add Task\n",
      "2. View Tasks\n",
      "3. Remove Task\n",
      "4. Exit\n"
     ]
    },
    {
     "name": "stdin",
     "output_type": "stream",
     "text": [
      "Choose an option:  4\n"
     ]
    },
    {
     "name": "stdout",
     "output_type": "stream",
     "text": [
      "Exiting\n"
     ]
    }
   ],
   "source": [
    "tasks = []\n",
    "\n",
    "def show_menu():\n",
    "    print(\"\\n📋 TO-DO LIST\")\n",
    "    print(\"1. Add Task\")\n",
    "    print(\"2. View Tasks\")\n",
    "    print(\"3. Remove Task\")\n",
    "    print(\"4. Exit\")\n",
    "\n",
    "while True:\n",
    "    show_menu()\n",
    "    choice = input(\"Choose an option: \")\n",
    "\n",
    "    if choice == '1':\n",
    "        task = input(\"Enter the task: \")\n",
    "        tasks.append(task)\n",
    "        print(\"Task added.\")\n",
    "    elif choice == '2':\n",
    "        if not tasks:\n",
    "            print(\"No tasks to show.\")\n",
    "        else:\n",
    "            print(\"\\nYour Tasks:\")\n",
    "            for i, task in enumerate(tasks, 1):\n",
    "                print(f\"{i}. {task}\")\n",
    "    elif choice == '3':\n",
    "        task_num = int(input(\"Enter task number to remove: \"))\n",
    "        if 0 < task_num <= len(tasks):\n",
    "            removed = tasks.pop(task_num - 1)\n",
    "            print(f\"Removed: {removed}\")\n",
    "        else:\n",
    "            print(\"Invalid task number.\")\n",
    "    elif choice == '4':\n",
    "        print(\"Exiting\")\n",
    "        break\n",
    "    else:\n",
    "        print(\"Invalid choice.\")\n"
   ]
  },
  {
   "cell_type": "code",
   "execution_count": null,
   "id": "66bb701c-51a0-4950-8f84-a3198ea4eae3",
   "metadata": {},
   "outputs": [],
   "source": []
  }
 ],
 "metadata": {
  "kernelspec": {
   "display_name": "Python 3 (ipykernel)",
   "language": "python",
   "name": "python3"
  },
  "language_info": {
   "codemirror_mode": {
    "name": "ipython",
    "version": 3
   },
   "file_extension": ".py",
   "mimetype": "text/x-python",
   "name": "python",
   "nbconvert_exporter": "python",
   "pygments_lexer": "ipython3",
   "version": "3.12.5"
  }
 },
 "nbformat": 4,
 "nbformat_minor": 5
}
